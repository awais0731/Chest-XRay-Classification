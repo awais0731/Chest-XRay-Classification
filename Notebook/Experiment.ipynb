{
 "cells": [
  {
   "cell_type": "code",
   "execution_count": 3,
   "metadata": {},
   "outputs": [],
   "source": [
    "import pandas as pd\n",
    "import numpy as np\n",
    "import os"
   ]
  },
  {
   "cell_type": "code",
   "execution_count": 4,
   "metadata": {},
   "outputs": [
    {
     "data": {
      "text/plain": [
       "'e:\\\\Python\\\\Chest-XRay-Classification\\\\Notebook'"
      ]
     },
     "execution_count": 4,
     "metadata": {},
     "output_type": "execute_result"
    }
   ],
   "source": [
    "os.getcwd()"
   ]
  },
  {
   "cell_type": "code",
   "execution_count": 5,
   "metadata": {},
   "outputs": [],
   "source": [
    "os.chdir('D:\\data')"
   ]
  },
  {
   "cell_type": "code",
   "execution_count": 6,
   "metadata": {},
   "outputs": [
    {
     "data": {
      "text/plain": [
       "'D:\\\\data'"
      ]
     },
     "execution_count": 6,
     "metadata": {},
     "output_type": "execute_result"
    }
   ],
   "source": [
    "os.getcwd()"
   ]
  },
  {
   "cell_type": "code",
   "execution_count": 7,
   "metadata": {},
   "outputs": [],
   "source": [
    "data = os.getcwd()"
   ]
  },
  {
   "cell_type": "code",
   "execution_count": 8,
   "metadata": {},
   "outputs": [],
   "source": [
    "class_name = ['NORMAL','PNEUMONIA']"
   ]
  },
  {
   "cell_type": "code",
   "execution_count": 9,
   "metadata": {},
   "outputs": [
    {
     "data": {
      "text/plain": [
       "['NORMAL', 'PNEUMONIA']"
      ]
     },
     "execution_count": 9,
     "metadata": {},
     "output_type": "execute_result"
    }
   ],
   "source": [
    "class_name"
   ]
  },
  {
   "cell_type": "code",
   "execution_count": 10,
   "metadata": {},
   "outputs": [],
   "source": [
    "def get_list_of_files(dir_name):\n",
    "    file_list = os.listdir(dir_name)\n",
    "    return file_list"
   ]
  },
  {
   "cell_type": "code",
   "execution_count": 14,
   "metadata": {},
   "outputs": [],
   "source": [
    "train_data_normal = get_list_of_files(data+'/train/'+class_name[0])"
   ]
  },
  {
   "cell_type": "code",
   "execution_count": 15,
   "metadata": {},
   "outputs": [
    {
     "data": {
      "text/plain": [
       "['IM-0001-0001.jpeg',\n",
       " 'IM-0003-0001.jpeg',\n",
       " 'IM-0005-0001.jpeg',\n",
       " 'IM-0006-0001.jpeg',\n",
       " 'IM-0007-0001.jpeg',\n",
       " 'IM-0009-0001.jpeg',\n",
       " 'IM-0010-0001.jpeg',\n",
       " 'IM-0011-0001-0001.jpeg',\n",
       " 'IM-0011-0001-0002.jpeg',\n",
       " 'IM-0011-0001.jpeg',\n",
       " 'IM-0013-0001.jpeg',\n",
       " 'IM-0015-0001.jpeg',\n",
       " 'IM-0016-0001.jpeg',\n",
       " 'IM-0017-0001.jpeg',\n",
       " 'IM-0019-0001.jpeg',\n",
       " 'IM-0021-0001.jpeg',\n",
       " 'IM-0022-0001.jpeg',\n",
       " 'IM-0023-0001.jpeg',\n",
       " 'IM-0025-0001.jpeg',\n",
       " 'IM-0027-0001.jpeg',\n",
       " 'IM-0028-0001.jpeg',\n",
       " 'IM-0029-0001.jpeg',\n",
       " 'IM-0030-0001.jpeg',\n",
       " 'IM-0031-0001.jpeg',\n",
       " 'IM-0033-0001-0001.jpeg',\n",
       " 'IM-0033-0001-0002.jpeg',\n",
       " 'IM-0033-0001.jpeg',\n",
       " 'IM-0035-0001.jpeg',\n",
       " 'IM-0036-0001.jpeg',\n",
       " 'IM-0037-0001.jpeg',\n",
       " 'IM-0039-0001.jpeg',\n",
       " 'IM-0041-0001.jpeg',\n",
       " 'IM-0043-0001.jpeg',\n",
       " 'IM-0045-0001.jpeg',\n",
       " 'IM-0046-0001.jpeg',\n",
       " 'IM-0049-0001.jpeg',\n",
       " 'IM-0050-0001.jpeg',\n",
       " 'IM-0059-0001.jpeg',\n",
       " 'IM-0061-0001.jpeg',\n",
       " 'IM-0063-0001.jpeg',\n",
       " 'IM-0065-0001.jpeg',\n",
       " 'IM-0067-0001.jpeg',\n",
       " 'IM-0069-0001.jpeg',\n",
       " 'IM-0070-0001.jpeg',\n",
       " 'IM-0071-0001.jpeg',\n",
       " 'IM-0073-0001.jpeg',\n",
       " 'IM-0075-0001.jpeg',\n",
       " 'IM-0077-0001.jpeg',\n",
       " 'IM-0079-0001.jpeg',\n",
       " 'IM-0081-0001.jpeg',\n",
       " 'IM-0083-0001.jpeg',\n",
       " 'IM-0084-0001.jpeg',\n",
       " 'IM-0085-0001.jpeg',\n",
       " 'IM-0086-0001.jpeg',\n",
       " 'IM-0087-0001.jpeg',\n",
       " 'IM-0089-0001.jpeg',\n",
       " 'IM-0091-0001.jpeg',\n",
       " 'IM-0093-0001.jpeg',\n",
       " 'IM-0095-0001.jpeg',\n",
       " 'IM-0097-0001.jpeg',\n",
       " 'IM-0099-0001.jpeg',\n",
       " 'IM-0101-0001.jpeg',\n",
       " 'IM-0102-0001.jpeg',\n",
       " 'IM-0103-0001.jpeg',\n",
       " 'IM-0105-0001.jpeg',\n",
       " 'IM-0107-0001.jpeg',\n",
       " 'IM-0109-0001.jpeg',\n",
       " 'IM-0110-0001.jpeg',\n",
       " 'IM-0111-0001.jpeg',\n",
       " 'NORMAL2-IM-0007-0001.jpeg',\n",
       " 'NORMAL2-IM-0012-0001.jpeg',\n",
       " 'NORMAL2-IM-0013-0001.jpeg',\n",
       " 'NORMAL2-IM-0019-0001.jpeg',\n",
       " 'NORMAL2-IM-0023-0001.jpeg',\n",
       " 'NORMAL2-IM-0027-0001.jpeg',\n",
       " 'NORMAL2-IM-0028-0001.jpeg',\n",
       " 'NORMAL2-IM-0029-0001.jpeg',\n",
       " 'NORMAL2-IM-0030-0001.jpeg',\n",
       " 'NORMAL2-IM-0033-0001.jpeg',\n",
       " 'NORMAL2-IM-0035-0001.jpeg',\n",
       " 'NORMAL2-IM-0041-0001.jpeg',\n",
       " 'NORMAL2-IM-0045-0001.jpeg',\n",
       " 'NORMAL2-IM-0051-0001.jpeg',\n",
       " 'NORMAL2-IM-0052-0001.jpeg',\n",
       " 'NORMAL2-IM-0058-0001.jpeg',\n",
       " 'NORMAL2-IM-0059-0001.jpeg',\n",
       " 'NORMAL2-IM-0060-0001.jpeg',\n",
       " 'NORMAL2-IM-0066-0001.jpeg',\n",
       " 'NORMAL2-IM-0072-0001.jpeg',\n",
       " 'NORMAL2-IM-0073-0001.jpeg',\n",
       " 'NORMAL2-IM-0079-0001.jpeg',\n",
       " 'NORMAL2-IM-0081-0001.jpeg',\n",
       " 'NORMAL2-IM-0086-0001.jpeg',\n",
       " 'NORMAL2-IM-0092-0001.jpeg',\n",
       " 'NORMAL2-IM-0095-0001.jpeg',\n",
       " 'NORMAL2-IM-0096-0001.jpeg',\n",
       " 'NORMAL2-IM-0098-0001.jpeg',\n",
       " 'NORMAL2-IM-0102-0001.jpeg',\n",
       " 'NORMAL2-IM-0105-0001.jpeg',\n",
       " 'NORMAL2-IM-0107-0001.jpeg',\n",
       " 'NORMAL2-IM-0110-0001.jpeg',\n",
       " 'NORMAL2-IM-0111-0001.jpeg',\n",
       " 'NORMAL2-IM-0112-0001.jpeg',\n",
       " 'NORMAL2-IM-0117-0001.jpeg',\n",
       " 'NORMAL2-IM-0120-0001.jpeg']"
      ]
     },
     "execution_count": 15,
     "metadata": {},
     "output_type": "execute_result"
    }
   ],
   "source": [
    "train_data_normal"
   ]
  },
  {
   "cell_type": "code",
   "execution_count": 16,
   "metadata": {},
   "outputs": [],
   "source": [
    "train_data_pneumonia = get_list_of_files(data+'/train/'+class_name[1])"
   ]
  },
  {
   "cell_type": "code",
   "execution_count": 17,
   "metadata": {},
   "outputs": [
    {
     "data": {
      "text/plain": [
       "['person10_virus_35.jpeg',\n",
       " 'person11_virus_38.jpeg',\n",
       " 'person14_virus_44.jpeg',\n",
       " 'person15_virus_46.jpeg',\n",
       " 'person16_virus_47.jpeg',\n",
       " 'person17_virus_48.jpeg',\n",
       " 'person18_virus_49.jpeg',\n",
       " 'person19_virus_50.jpeg',\n",
       " 'person1_virus_11.jpeg',\n",
       " 'person1_virus_12.jpeg',\n",
       " 'person1_virus_13.jpeg',\n",
       " 'person1_virus_6.jpeg',\n",
       " 'person1_virus_7.jpeg',\n",
       " 'person1_virus_8.jpeg',\n",
       " 'person1_virus_9.jpeg',\n",
       " 'person20_virus_51.jpeg',\n",
       " 'person21_virus_52.jpeg',\n",
       " 'person21_virus_53.jpeg',\n",
       " 'person22_virus_54.jpeg',\n",
       " 'person22_virus_55.jpeg',\n",
       " 'person23_virus_56.jpeg',\n",
       " 'person24_virus_58.jpeg',\n",
       " 'person25_virus_59.jpeg',\n",
       " 'person26_virus_60.jpeg',\n",
       " 'person28_virus_62.jpeg',\n",
       " 'person28_virus_63.jpeg',\n",
       " 'person29_virus_64.jpeg',\n",
       " 'person30_virus_69.jpeg',\n",
       " 'person31_virus_70.jpeg',\n",
       " 'person32_virus_71.jpeg',\n",
       " 'person33_virus_72.jpeg',\n",
       " 'person34_virus_76.jpeg',\n",
       " 'person35_virus_80.jpeg',\n",
       " 'person36_virus_81.jpeg',\n",
       " 'person37_virus_82.jpeg',\n",
       " 'person38_virus_83.jpeg',\n",
       " 'person38_virus_84.jpeg',\n",
       " 'person39_virus_85.jpeg',\n",
       " 'person3_virus_15.jpeg',\n",
       " 'person3_virus_16.jpeg',\n",
       " 'person3_virus_17.jpeg',\n",
       " 'person40_virus_87.jpeg',\n",
       " 'person41_virus_88.jpeg',\n",
       " 'person42_virus_89.jpeg',\n",
       " 'person43_virus_92.jpeg',\n",
       " 'person44_virus_93.jpeg',\n",
       " 'person44_virus_94.jpeg',\n",
       " 'person45_virus_95.jpeg',\n",
       " 'person46_virus_96.jpeg',\n",
       " 'person47_virus_99.jpeg',\n",
       " 'person48_virus_100.jpeg',\n",
       " 'person49_virus_101.jpeg',\n",
       " 'person50_virus_102.jpeg',\n",
       " 'person51_virus_105.jpeg',\n",
       " 'person52_virus_106.jpeg',\n",
       " 'person53_virus_107.jpeg',\n",
       " 'person53_virus_108.jpeg',\n",
       " 'person54_virus_109.jpeg',\n",
       " 'person55_virus_110.jpeg',\n",
       " 'person56_virus_112.jpeg',\n",
       " 'person57_virus_113.jpeg',\n",
       " 'person59_virus_116.jpeg',\n",
       " 'person60_virus_117.jpeg',\n",
       " 'person61_virus_118.jpeg',\n",
       " 'person62_virus_119.jpeg',\n",
       " 'person63_virus_121.jpeg',\n",
       " 'person64_virus_122.jpeg',\n",
       " 'person65_virus_123.jpeg',\n",
       " 'person66_virus_125.jpeg',\n",
       " 'person67_virus_126.jpeg',\n",
       " 'person69_virus_129.jpeg',\n",
       " 'person70_virus_130.jpeg',\n",
       " 'person71_virus_131.jpeg',\n",
       " 'person71_virus_132.jpeg',\n",
       " 'person72_virus_133.jpeg',\n",
       " 'person74_virus_135.jpeg',\n",
       " 'person75_virus_136.jpeg',\n",
       " 'person76_virus_138.jpeg',\n",
       " 'person77_virus_139.jpeg',\n",
       " 'person78_bacteria_378.jpeg',\n",
       " 'person78_bacteria_380.jpeg',\n",
       " 'person78_bacteria_381.jpeg',\n",
       " 'person78_bacteria_382.jpeg',\n",
       " 'person78_bacteria_384.jpeg',\n",
       " 'person78_bacteria_385.jpeg',\n",
       " 'person78_bacteria_386.jpeg',\n",
       " 'person78_bacteria_387.jpeg',\n",
       " 'person78_virus_140.jpeg',\n",
       " 'person79_virus_148.jpeg',\n",
       " 'person80_bacteria_389.jpeg',\n",
       " 'person80_bacteria_390.jpeg',\n",
       " 'person80_bacteria_391.jpeg',\n",
       " 'person80_bacteria_392.jpeg',\n",
       " 'person80_bacteria_393.jpeg',\n",
       " 'person81_bacteria_395.jpeg',\n",
       " 'person81_bacteria_396.jpeg',\n",
       " 'person81_bacteria_397.jpeg',\n",
       " 'person81_bacteria_398.jpeg',\n",
       " 'person82_bacteria_402.jpeg',\n",
       " 'person82_bacteria_403.jpeg',\n",
       " 'person82_bacteria_404.jpeg',\n",
       " 'person82_bacteria_405.jpeg',\n",
       " 'person83_bacteria_407.jpeg',\n",
       " 'person8_virus_27.jpeg',\n",
       " 'person8_virus_28.jpeg']"
      ]
     },
     "execution_count": 17,
     "metadata": {},
     "output_type": "execute_result"
    }
   ],
   "source": [
    "train_data_pneumonia"
   ]
  },
  {
   "cell_type": "code",
   "execution_count": 21,
   "metadata": {},
   "outputs": [],
   "source": [
    "from torchvision import transforms ,datasets, models\n",
    "from torch.utils.data import dataloader"
   ]
  },
  {
   "cell_type": "code",
   "execution_count": 22,
   "metadata": {},
   "outputs": [],
   "source": [
    "train_transform = transforms.Compose([\n",
    "    transforms.Resize(224),\n",
    "    transforms.CenterCrop(224),\n",
    "    transforms.ColorJitter(brightness=0.10 , contrast=0.1 , saturation=0.10 , hue=0.1),\n",
    "    transforms.RandomHorizontalFlip(),\n",
    "    transforms.RandomRotation(10),\n",
    "    transforms.ToTensor(),\n",
    "    transforms.Normalize([0.485, 0.456, 0.406],[0.229, 0.224, 0.225])\n",
    "\n",
    "])"
   ]
  },
  {
   "cell_type": "code",
   "execution_count": 23,
   "metadata": {},
   "outputs": [],
   "source": [
    "test_transform = transforms.Compose([\n",
    "    transforms.Resize(224),\n",
    "    transforms.CenterCrop(224),\n",
    "    transforms.ToTensor(),\n",
    "    transforms.Normalize([0.485, 0.456, 0.406],[0.229, 0.224, 0.225])\n",
    "\n",
    "])"
   ]
  },
  {
   "cell_type": "code",
   "execution_count": 24,
   "metadata": {},
   "outputs": [],
   "source": [
    "train_data = datasets.ImageFolder(os.path.join(data, 'train'), transform=train_transform)"
   ]
  },
  {
   "cell_type": "code",
   "execution_count": 25,
   "metadata": {},
   "outputs": [
    {
     "data": {
      "text/plain": [
       "Dataset ImageFolder\n",
       "    Number of datapoints: 210\n",
       "    Root location: D:\\data\\train\n",
       "    StandardTransform\n",
       "Transform: Compose(\n",
       "               Resize(size=224, interpolation=bilinear, max_size=None, antialias=True)\n",
       "               CenterCrop(size=(224, 224))\n",
       "               ColorJitter(brightness=(0.9, 1.1), contrast=(0.9, 1.1), saturation=(0.9, 1.1), hue=(-0.1, 0.1))\n",
       "               RandomHorizontalFlip(p=0.5)\n",
       "               RandomRotation(degrees=[-10.0, 10.0], interpolation=nearest, expand=False, fill=0)\n",
       "               ToTensor()\n",
       "               Normalize(mean=[0.485, 0.456, 0.406], std=[0.229, 0.224, 0.225])\n",
       "           )"
      ]
     },
     "execution_count": 25,
     "metadata": {},
     "output_type": "execute_result"
    }
   ],
   "source": [
    "train_data"
   ]
  },
  {
   "cell_type": "code",
   "execution_count": 26,
   "metadata": {},
   "outputs": [],
   "source": [
    "test_data = datasets.ImageFolder(os.path.join(data, 'test'), transform=test_transform)"
   ]
  },
  {
   "cell_type": "code",
   "execution_count": 27,
   "metadata": {},
   "outputs": [
    {
     "data": {
      "text/plain": [
       "Dataset ImageFolder\n",
       "    Number of datapoints: 60\n",
       "    Root location: D:\\data\\test\n",
       "    StandardTransform\n",
       "Transform: Compose(\n",
       "               Resize(size=224, interpolation=bilinear, max_size=None, antialias=True)\n",
       "               CenterCrop(size=(224, 224))\n",
       "               ToTensor()\n",
       "               Normalize(mean=[0.485, 0.456, 0.406], std=[0.229, 0.224, 0.225])\n",
       "           )"
      ]
     },
     "execution_count": 27,
     "metadata": {},
     "output_type": "execute_result"
    }
   ],
   "source": [
    "test_data"
   ]
  },
  {
   "cell_type": "code",
   "execution_count": null,
   "metadata": {},
   "outputs": [],
   "source": []
  }
 ],
 "metadata": {
  "kernelspec": {
   "display_name": "Python 3",
   "language": "python",
   "name": "python3"
  },
  "language_info": {
   "codemirror_mode": {
    "name": "ipython",
    "version": 3
   },
   "file_extension": ".py",
   "mimetype": "text/x-python",
   "name": "python",
   "nbconvert_exporter": "python",
   "pygments_lexer": "ipython3",
   "version": "3.8.19"
  }
 },
 "nbformat": 4,
 "nbformat_minor": 2
}
